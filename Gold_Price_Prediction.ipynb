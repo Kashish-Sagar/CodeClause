{
  "cells": [
    {
      "cell_type": "markdown",
      "id": "f8774878",
      "metadata": {
        "id": "f8774878"
      },
      "source": [
        " Gold Price Prediction"
      ]
    },
    {
      "cell_type": "code",
      "execution_count": null,
      "id": "ace0a106",
      "metadata": {
        "id": "ace0a106"
      },
      "outputs": [],
      "source": [
        "import pandas as pd\n",
        "import numpy as np\n",
        "import matplotlib.pyplot as plt\n",
        "import seaborn as sns\n",
        "from sklearn.model_selection import train_test_split\n",
        "from sklearn.linear_model import LinearRegression\n",
        "from sklearn import metrics\n",
        "from sklearn.ensemble import RandomForestRegressor"
      ]
    },
    {
      "cell_type": "code",
      "execution_count": null,
      "id": "157dfb36",
      "metadata": {
        "colab": {
          "base_uri": "https://localhost:8080/",
          "height": 206
        },
        "id": "157dfb36",
        "outputId": "b36575f0-7d78-4757-b69d-8915cd218814"
      },
      "outputs": [
        {
          "output_type": "execute_result",
          "data": {
            "text/plain": [
              "       Date          SPX        GLD        USO     SLV   EUR/USD\n",
              "0  1/2/2008  1447.160034  84.860001  78.470001  15.180  1.471692\n",
              "1  1/3/2008  1447.160034  85.570000  78.370003  15.285  1.474491\n",
              "2  1/4/2008  1411.630005  85.129997  77.309998  15.167  1.475492\n",
              "3  1/7/2008  1416.180054  84.769997  75.500000  15.053  1.468299\n",
              "4  1/8/2008  1390.189941  86.779999  76.059998  15.590  1.557099"
            ],
            "text/html": [
              "\n",
              "  <div id=\"df-8da6c77b-7216-4966-8e2f-a7d06ec1358f\">\n",
              "    <div class=\"colab-df-container\">\n",
              "      <div>\n",
              "<style scoped>\n",
              "    .dataframe tbody tr th:only-of-type {\n",
              "        vertical-align: middle;\n",
              "    }\n",
              "\n",
              "    .dataframe tbody tr th {\n",
              "        vertical-align: top;\n",
              "    }\n",
              "\n",
              "    .dataframe thead th {\n",
              "        text-align: right;\n",
              "    }\n",
              "</style>\n",
              "<table border=\"1\" class=\"dataframe\">\n",
              "  <thead>\n",
              "    <tr style=\"text-align: right;\">\n",
              "      <th></th>\n",
              "      <th>Date</th>\n",
              "      <th>SPX</th>\n",
              "      <th>GLD</th>\n",
              "      <th>USO</th>\n",
              "      <th>SLV</th>\n",
              "      <th>EUR/USD</th>\n",
              "    </tr>\n",
              "  </thead>\n",
              "  <tbody>\n",
              "    <tr>\n",
              "      <th>0</th>\n",
              "      <td>1/2/2008</td>\n",
              "      <td>1447.160034</td>\n",
              "      <td>84.860001</td>\n",
              "      <td>78.470001</td>\n",
              "      <td>15.180</td>\n",
              "      <td>1.471692</td>\n",
              "    </tr>\n",
              "    <tr>\n",
              "      <th>1</th>\n",
              "      <td>1/3/2008</td>\n",
              "      <td>1447.160034</td>\n",
              "      <td>85.570000</td>\n",
              "      <td>78.370003</td>\n",
              "      <td>15.285</td>\n",
              "      <td>1.474491</td>\n",
              "    </tr>\n",
              "    <tr>\n",
              "      <th>2</th>\n",
              "      <td>1/4/2008</td>\n",
              "      <td>1411.630005</td>\n",
              "      <td>85.129997</td>\n",
              "      <td>77.309998</td>\n",
              "      <td>15.167</td>\n",
              "      <td>1.475492</td>\n",
              "    </tr>\n",
              "    <tr>\n",
              "      <th>3</th>\n",
              "      <td>1/7/2008</td>\n",
              "      <td>1416.180054</td>\n",
              "      <td>84.769997</td>\n",
              "      <td>75.500000</td>\n",
              "      <td>15.053</td>\n",
              "      <td>1.468299</td>\n",
              "    </tr>\n",
              "    <tr>\n",
              "      <th>4</th>\n",
              "      <td>1/8/2008</td>\n",
              "      <td>1390.189941</td>\n",
              "      <td>86.779999</td>\n",
              "      <td>76.059998</td>\n",
              "      <td>15.590</td>\n",
              "      <td>1.557099</td>\n",
              "    </tr>\n",
              "  </tbody>\n",
              "</table>\n",
              "</div>\n",
              "      <button class=\"colab-df-convert\" onclick=\"convertToInteractive('df-8da6c77b-7216-4966-8e2f-a7d06ec1358f')\"\n",
              "              title=\"Convert this dataframe to an interactive table.\"\n",
              "              style=\"display:none;\">\n",
              "        \n",
              "  <svg xmlns=\"http://www.w3.org/2000/svg\" height=\"24px\"viewBox=\"0 0 24 24\"\n",
              "       width=\"24px\">\n",
              "    <path d=\"M0 0h24v24H0V0z\" fill=\"none\"/>\n",
              "    <path d=\"M18.56 5.44l.94 2.06.94-2.06 2.06-.94-2.06-.94-.94-2.06-.94 2.06-2.06.94zm-11 1L8.5 8.5l.94-2.06 2.06-.94-2.06-.94L8.5 2.5l-.94 2.06-2.06.94zm10 10l.94 2.06.94-2.06 2.06-.94-2.06-.94-.94-2.06-.94 2.06-2.06.94z\"/><path d=\"M17.41 7.96l-1.37-1.37c-.4-.4-.92-.59-1.43-.59-.52 0-1.04.2-1.43.59L10.3 9.45l-7.72 7.72c-.78.78-.78 2.05 0 2.83L4 21.41c.39.39.9.59 1.41.59.51 0 1.02-.2 1.41-.59l7.78-7.78 2.81-2.81c.8-.78.8-2.07 0-2.86zM5.41 20L4 18.59l7.72-7.72 1.47 1.35L5.41 20z\"/>\n",
              "  </svg>\n",
              "      </button>\n",
              "      \n",
              "  <style>\n",
              "    .colab-df-container {\n",
              "      display:flex;\n",
              "      flex-wrap:wrap;\n",
              "      gap: 12px;\n",
              "    }\n",
              "\n",
              "    .colab-df-convert {\n",
              "      background-color: #E8F0FE;\n",
              "      border: none;\n",
              "      border-radius: 50%;\n",
              "      cursor: pointer;\n",
              "      display: none;\n",
              "      fill: #1967D2;\n",
              "      height: 32px;\n",
              "      padding: 0 0 0 0;\n",
              "      width: 32px;\n",
              "    }\n",
              "\n",
              "    .colab-df-convert:hover {\n",
              "      background-color: #E2EBFA;\n",
              "      box-shadow: 0px 1px 2px rgba(60, 64, 67, 0.3), 0px 1px 3px 1px rgba(60, 64, 67, 0.15);\n",
              "      fill: #174EA6;\n",
              "    }\n",
              "\n",
              "    [theme=dark] .colab-df-convert {\n",
              "      background-color: #3B4455;\n",
              "      fill: #D2E3FC;\n",
              "    }\n",
              "\n",
              "    [theme=dark] .colab-df-convert:hover {\n",
              "      background-color: #434B5C;\n",
              "      box-shadow: 0px 1px 3px 1px rgba(0, 0, 0, 0.15);\n",
              "      filter: drop-shadow(0px 1px 2px rgba(0, 0, 0, 0.3));\n",
              "      fill: #FFFFFF;\n",
              "    }\n",
              "  </style>\n",
              "\n",
              "      <script>\n",
              "        const buttonEl =\n",
              "          document.querySelector('#df-8da6c77b-7216-4966-8e2f-a7d06ec1358f button.colab-df-convert');\n",
              "        buttonEl.style.display =\n",
              "          google.colab.kernel.accessAllowed ? 'block' : 'none';\n",
              "\n",
              "        async function convertToInteractive(key) {\n",
              "          const element = document.querySelector('#df-8da6c77b-7216-4966-8e2f-a7d06ec1358f');\n",
              "          const dataTable =\n",
              "            await google.colab.kernel.invokeFunction('convertToInteractive',\n",
              "                                                     [key], {});\n",
              "          if (!dataTable) return;\n",
              "\n",
              "          const docLinkHtml = 'Like what you see? Visit the ' +\n",
              "            '<a target=\"_blank\" href=https://colab.research.google.com/notebooks/data_table.ipynb>data table notebook</a>'\n",
              "            + ' to learn more about interactive tables.';\n",
              "          element.innerHTML = '';\n",
              "          dataTable['output_type'] = 'display_data';\n",
              "          await google.colab.output.renderOutput(dataTable, element);\n",
              "          const docLink = document.createElement('div');\n",
              "          docLink.innerHTML = docLinkHtml;\n",
              "          element.appendChild(docLink);\n",
              "        }\n",
              "      </script>\n",
              "    </div>\n",
              "  </div>\n",
              "  "
            ]
          },
          "metadata": {},
          "execution_count": 2
        }
      ],
      "source": [
        "df = pd.read_csv(\"//content//Gold_Price_Data.csv\")\n",
        "df.head(5)"
      ]
    },
    {
      "cell_type": "code",
      "execution_count": null,
      "id": "95eec6b2",
      "metadata": {
        "colab": {
          "base_uri": "https://localhost:8080/",
          "height": 206
        },
        "id": "95eec6b2",
        "outputId": "c2eaea05-60b8-4266-d2a3-5e15fc92d429"
      },
      "outputs": [
        {
          "output_type": "execute_result",
          "data": {
            "text/plain": [
              "           Date          SPX         GLD      USO      SLV   EUR/USD\n",
              "2285   5/8/2018  2671.919922  124.589996  14.0600  15.5100  1.186789\n",
              "2286   5/9/2018  2697.790039  124.330002  14.3700  15.5300  1.184722\n",
              "2287  5/10/2018  2723.070068  125.180000  14.4100  15.7400  1.191753\n",
              "2288  5/14/2018  2730.129883  124.489998  14.3800  15.5600  1.193118\n",
              "2289  5/16/2018  2725.780029  122.543800  14.4058  15.4542  1.182033"
            ],
            "text/html": [
              "\n",
              "  <div id=\"df-1ec34bf0-85f8-49a0-b8e8-2df878a6f88a\">\n",
              "    <div class=\"colab-df-container\">\n",
              "      <div>\n",
              "<style scoped>\n",
              "    .dataframe tbody tr th:only-of-type {\n",
              "        vertical-align: middle;\n",
              "    }\n",
              "\n",
              "    .dataframe tbody tr th {\n",
              "        vertical-align: top;\n",
              "    }\n",
              "\n",
              "    .dataframe thead th {\n",
              "        text-align: right;\n",
              "    }\n",
              "</style>\n",
              "<table border=\"1\" class=\"dataframe\">\n",
              "  <thead>\n",
              "    <tr style=\"text-align: right;\">\n",
              "      <th></th>\n",
              "      <th>Date</th>\n",
              "      <th>SPX</th>\n",
              "      <th>GLD</th>\n",
              "      <th>USO</th>\n",
              "      <th>SLV</th>\n",
              "      <th>EUR/USD</th>\n",
              "    </tr>\n",
              "  </thead>\n",
              "  <tbody>\n",
              "    <tr>\n",
              "      <th>2285</th>\n",
              "      <td>5/8/2018</td>\n",
              "      <td>2671.919922</td>\n",
              "      <td>124.589996</td>\n",
              "      <td>14.0600</td>\n",
              "      <td>15.5100</td>\n",
              "      <td>1.186789</td>\n",
              "    </tr>\n",
              "    <tr>\n",
              "      <th>2286</th>\n",
              "      <td>5/9/2018</td>\n",
              "      <td>2697.790039</td>\n",
              "      <td>124.330002</td>\n",
              "      <td>14.3700</td>\n",
              "      <td>15.5300</td>\n",
              "      <td>1.184722</td>\n",
              "    </tr>\n",
              "    <tr>\n",
              "      <th>2287</th>\n",
              "      <td>5/10/2018</td>\n",
              "      <td>2723.070068</td>\n",
              "      <td>125.180000</td>\n",
              "      <td>14.4100</td>\n",
              "      <td>15.7400</td>\n",
              "      <td>1.191753</td>\n",
              "    </tr>\n",
              "    <tr>\n",
              "      <th>2288</th>\n",
              "      <td>5/14/2018</td>\n",
              "      <td>2730.129883</td>\n",
              "      <td>124.489998</td>\n",
              "      <td>14.3800</td>\n",
              "      <td>15.5600</td>\n",
              "      <td>1.193118</td>\n",
              "    </tr>\n",
              "    <tr>\n",
              "      <th>2289</th>\n",
              "      <td>5/16/2018</td>\n",
              "      <td>2725.780029</td>\n",
              "      <td>122.543800</td>\n",
              "      <td>14.4058</td>\n",
              "      <td>15.4542</td>\n",
              "      <td>1.182033</td>\n",
              "    </tr>\n",
              "  </tbody>\n",
              "</table>\n",
              "</div>\n",
              "      <button class=\"colab-df-convert\" onclick=\"convertToInteractive('df-1ec34bf0-85f8-49a0-b8e8-2df878a6f88a')\"\n",
              "              title=\"Convert this dataframe to an interactive table.\"\n",
              "              style=\"display:none;\">\n",
              "        \n",
              "  <svg xmlns=\"http://www.w3.org/2000/svg\" height=\"24px\"viewBox=\"0 0 24 24\"\n",
              "       width=\"24px\">\n",
              "    <path d=\"M0 0h24v24H0V0z\" fill=\"none\"/>\n",
              "    <path d=\"M18.56 5.44l.94 2.06.94-2.06 2.06-.94-2.06-.94-.94-2.06-.94 2.06-2.06.94zm-11 1L8.5 8.5l.94-2.06 2.06-.94-2.06-.94L8.5 2.5l-.94 2.06-2.06.94zm10 10l.94 2.06.94-2.06 2.06-.94-2.06-.94-.94-2.06-.94 2.06-2.06.94z\"/><path d=\"M17.41 7.96l-1.37-1.37c-.4-.4-.92-.59-1.43-.59-.52 0-1.04.2-1.43.59L10.3 9.45l-7.72 7.72c-.78.78-.78 2.05 0 2.83L4 21.41c.39.39.9.59 1.41.59.51 0 1.02-.2 1.41-.59l7.78-7.78 2.81-2.81c.8-.78.8-2.07 0-2.86zM5.41 20L4 18.59l7.72-7.72 1.47 1.35L5.41 20z\"/>\n",
              "  </svg>\n",
              "      </button>\n",
              "      \n",
              "  <style>\n",
              "    .colab-df-container {\n",
              "      display:flex;\n",
              "      flex-wrap:wrap;\n",
              "      gap: 12px;\n",
              "    }\n",
              "\n",
              "    .colab-df-convert {\n",
              "      background-color: #E8F0FE;\n",
              "      border: none;\n",
              "      border-radius: 50%;\n",
              "      cursor: pointer;\n",
              "      display: none;\n",
              "      fill: #1967D2;\n",
              "      height: 32px;\n",
              "      padding: 0 0 0 0;\n",
              "      width: 32px;\n",
              "    }\n",
              "\n",
              "    .colab-df-convert:hover {\n",
              "      background-color: #E2EBFA;\n",
              "      box-shadow: 0px 1px 2px rgba(60, 64, 67, 0.3), 0px 1px 3px 1px rgba(60, 64, 67, 0.15);\n",
              "      fill: #174EA6;\n",
              "    }\n",
              "\n",
              "    [theme=dark] .colab-df-convert {\n",
              "      background-color: #3B4455;\n",
              "      fill: #D2E3FC;\n",
              "    }\n",
              "\n",
              "    [theme=dark] .colab-df-convert:hover {\n",
              "      background-color: #434B5C;\n",
              "      box-shadow: 0px 1px 3px 1px rgba(0, 0, 0, 0.15);\n",
              "      filter: drop-shadow(0px 1px 2px rgba(0, 0, 0, 0.3));\n",
              "      fill: #FFFFFF;\n",
              "    }\n",
              "  </style>\n",
              "\n",
              "      <script>\n",
              "        const buttonEl =\n",
              "          document.querySelector('#df-1ec34bf0-85f8-49a0-b8e8-2df878a6f88a button.colab-df-convert');\n",
              "        buttonEl.style.display =\n",
              "          google.colab.kernel.accessAllowed ? 'block' : 'none';\n",
              "\n",
              "        async function convertToInteractive(key) {\n",
              "          const element = document.querySelector('#df-1ec34bf0-85f8-49a0-b8e8-2df878a6f88a');\n",
              "          const dataTable =\n",
              "            await google.colab.kernel.invokeFunction('convertToInteractive',\n",
              "                                                     [key], {});\n",
              "          if (!dataTable) return;\n",
              "\n",
              "          const docLinkHtml = 'Like what you see? Visit the ' +\n",
              "            '<a target=\"_blank\" href=https://colab.research.google.com/notebooks/data_table.ipynb>data table notebook</a>'\n",
              "            + ' to learn more about interactive tables.';\n",
              "          element.innerHTML = '';\n",
              "          dataTable['output_type'] = 'display_data';\n",
              "          await google.colab.output.renderOutput(dataTable, element);\n",
              "          const docLink = document.createElement('div');\n",
              "          docLink.innerHTML = docLinkHtml;\n",
              "          element.appendChild(docLink);\n",
              "        }\n",
              "      </script>\n",
              "    </div>\n",
              "  </div>\n",
              "  "
            ]
          },
          "metadata": {},
          "execution_count": 3
        }
      ],
      "source": [
        "df.tail()"
      ]
    },
    {
      "cell_type": "code",
      "execution_count": null,
      "id": "53216e94",
      "metadata": {
        "colab": {
          "base_uri": "https://localhost:8080/"
        },
        "id": "53216e94",
        "outputId": "4a2cc11b-8829-425e-d81c-36dc938cec3a"
      },
      "outputs": [
        {
          "output_type": "execute_result",
          "data": {
            "text/plain": [
              "(2290, 6)"
            ]
          },
          "metadata": {},
          "execution_count": 4
        }
      ],
      "source": [
        "df.shape"
      ]
    },
    {
      "cell_type": "code",
      "execution_count": null,
      "id": "5418a65b",
      "metadata": {
        "colab": {
          "base_uri": "https://localhost:8080/"
        },
        "id": "5418a65b",
        "outputId": "f3a1ee0d-aec7-497c-d2e3-620ceaca13f6"
      },
      "outputs": [
        {
          "output_type": "stream",
          "name": "stdout",
          "text": [
            "<class 'pandas.core.frame.DataFrame'>\n",
            "RangeIndex: 2290 entries, 0 to 2289\n",
            "Data columns (total 6 columns):\n",
            " #   Column   Non-Null Count  Dtype  \n",
            "---  ------   --------------  -----  \n",
            " 0   Date     2290 non-null   object \n",
            " 1   SPX      2290 non-null   float64\n",
            " 2   GLD      2290 non-null   float64\n",
            " 3   USO      2290 non-null   float64\n",
            " 4   SLV      2290 non-null   float64\n",
            " 5   EUR/USD  2290 non-null   float64\n",
            "dtypes: float64(5), object(1)\n",
            "memory usage: 107.5+ KB\n"
          ]
        }
      ],
      "source": [
        "df.info()"
      ]
    },
    {
      "cell_type": "code",
      "execution_count": null,
      "id": "a2604a6f",
      "metadata": {
        "colab": {
          "base_uri": "https://localhost:8080/"
        },
        "id": "a2604a6f",
        "outputId": "19542d4a-1b3e-469b-dd3d-023cd25d8e62"
      },
      "outputs": [
        {
          "output_type": "execute_result",
          "data": {
            "text/plain": [
              "Date       0\n",
              "SPX        0\n",
              "GLD        0\n",
              "USO        0\n",
              "SLV        0\n",
              "EUR/USD    0\n",
              "dtype: int64"
            ]
          },
          "metadata": {},
          "execution_count": 6
        }
      ],
      "source": [
        "df.isnull().sum()"
      ]
    },
    {
      "cell_type": "markdown",
      "id": "0dc17b86",
      "metadata": {
        "id": "0dc17b86"
      },
      "source": [
        "# Correlation"
      ]
    },
    {
      "cell_type": "code",
      "execution_count": null,
      "id": "2dcc12f6",
      "metadata": {
        "colab": {
          "base_uri": "https://localhost:8080/",
          "height": 261
        },
        "id": "2dcc12f6",
        "outputId": "e7b8f9e1-543d-4c29-b464-1f45a37b1fda"
      },
      "outputs": [
        {
          "output_type": "stream",
          "name": "stderr",
          "text": [
            "<ipython-input-7-b6c2249924d6>:1: FutureWarning: The default value of numeric_only in DataFrame.corr is deprecated. In a future version, it will default to False. Select only valid columns or specify the value of numeric_only to silence this warning.\n",
            "  correlation = df.corr()\n"
          ]
        },
        {
          "output_type": "execute_result",
          "data": {
            "text/plain": [
              "              SPX       GLD       USO       SLV   EUR/USD\n",
              "SPX      1.000000  0.049345 -0.591573 -0.274055 -0.672017\n",
              "GLD      0.049345  1.000000 -0.186360  0.866632 -0.024375\n",
              "USO     -0.591573 -0.186360  1.000000  0.167547  0.829317\n",
              "SLV     -0.274055  0.866632  0.167547  1.000000  0.321631\n",
              "EUR/USD -0.672017 -0.024375  0.829317  0.321631  1.000000"
            ],
            "text/html": [
              "\n",
              "  <div id=\"df-334b15d0-6db1-4234-b2ff-a9d88b0686c5\">\n",
              "    <div class=\"colab-df-container\">\n",
              "      <div>\n",
              "<style scoped>\n",
              "    .dataframe tbody tr th:only-of-type {\n",
              "        vertical-align: middle;\n",
              "    }\n",
              "\n",
              "    .dataframe tbody tr th {\n",
              "        vertical-align: top;\n",
              "    }\n",
              "\n",
              "    .dataframe thead th {\n",
              "        text-align: right;\n",
              "    }\n",
              "</style>\n",
              "<table border=\"1\" class=\"dataframe\">\n",
              "  <thead>\n",
              "    <tr style=\"text-align: right;\">\n",
              "      <th></th>\n",
              "      <th>SPX</th>\n",
              "      <th>GLD</th>\n",
              "      <th>USO</th>\n",
              "      <th>SLV</th>\n",
              "      <th>EUR/USD</th>\n",
              "    </tr>\n",
              "  </thead>\n",
              "  <tbody>\n",
              "    <tr>\n",
              "      <th>SPX</th>\n",
              "      <td>1.000000</td>\n",
              "      <td>0.049345</td>\n",
              "      <td>-0.591573</td>\n",
              "      <td>-0.274055</td>\n",
              "      <td>-0.672017</td>\n",
              "    </tr>\n",
              "    <tr>\n",
              "      <th>GLD</th>\n",
              "      <td>0.049345</td>\n",
              "      <td>1.000000</td>\n",
              "      <td>-0.186360</td>\n",
              "      <td>0.866632</td>\n",
              "      <td>-0.024375</td>\n",
              "    </tr>\n",
              "    <tr>\n",
              "      <th>USO</th>\n",
              "      <td>-0.591573</td>\n",
              "      <td>-0.186360</td>\n",
              "      <td>1.000000</td>\n",
              "      <td>0.167547</td>\n",
              "      <td>0.829317</td>\n",
              "    </tr>\n",
              "    <tr>\n",
              "      <th>SLV</th>\n",
              "      <td>-0.274055</td>\n",
              "      <td>0.866632</td>\n",
              "      <td>0.167547</td>\n",
              "      <td>1.000000</td>\n",
              "      <td>0.321631</td>\n",
              "    </tr>\n",
              "    <tr>\n",
              "      <th>EUR/USD</th>\n",
              "      <td>-0.672017</td>\n",
              "      <td>-0.024375</td>\n",
              "      <td>0.829317</td>\n",
              "      <td>0.321631</td>\n",
              "      <td>1.000000</td>\n",
              "    </tr>\n",
              "  </tbody>\n",
              "</table>\n",
              "</div>\n",
              "      <button class=\"colab-df-convert\" onclick=\"convertToInteractive('df-334b15d0-6db1-4234-b2ff-a9d88b0686c5')\"\n",
              "              title=\"Convert this dataframe to an interactive table.\"\n",
              "              style=\"display:none;\">\n",
              "        \n",
              "  <svg xmlns=\"http://www.w3.org/2000/svg\" height=\"24px\"viewBox=\"0 0 24 24\"\n",
              "       width=\"24px\">\n",
              "    <path d=\"M0 0h24v24H0V0z\" fill=\"none\"/>\n",
              "    <path d=\"M18.56 5.44l.94 2.06.94-2.06 2.06-.94-2.06-.94-.94-2.06-.94 2.06-2.06.94zm-11 1L8.5 8.5l.94-2.06 2.06-.94-2.06-.94L8.5 2.5l-.94 2.06-2.06.94zm10 10l.94 2.06.94-2.06 2.06-.94-2.06-.94-.94-2.06-.94 2.06-2.06.94z\"/><path d=\"M17.41 7.96l-1.37-1.37c-.4-.4-.92-.59-1.43-.59-.52 0-1.04.2-1.43.59L10.3 9.45l-7.72 7.72c-.78.78-.78 2.05 0 2.83L4 21.41c.39.39.9.59 1.41.59.51 0 1.02-.2 1.41-.59l7.78-7.78 2.81-2.81c.8-.78.8-2.07 0-2.86zM5.41 20L4 18.59l7.72-7.72 1.47 1.35L5.41 20z\"/>\n",
              "  </svg>\n",
              "      </button>\n",
              "      \n",
              "  <style>\n",
              "    .colab-df-container {\n",
              "      display:flex;\n",
              "      flex-wrap:wrap;\n",
              "      gap: 12px;\n",
              "    }\n",
              "\n",
              "    .colab-df-convert {\n",
              "      background-color: #E8F0FE;\n",
              "      border: none;\n",
              "      border-radius: 50%;\n",
              "      cursor: pointer;\n",
              "      display: none;\n",
              "      fill: #1967D2;\n",
              "      height: 32px;\n",
              "      padding: 0 0 0 0;\n",
              "      width: 32px;\n",
              "    }\n",
              "\n",
              "    .colab-df-convert:hover {\n",
              "      background-color: #E2EBFA;\n",
              "      box-shadow: 0px 1px 2px rgba(60, 64, 67, 0.3), 0px 1px 3px 1px rgba(60, 64, 67, 0.15);\n",
              "      fill: #174EA6;\n",
              "    }\n",
              "\n",
              "    [theme=dark] .colab-df-convert {\n",
              "      background-color: #3B4455;\n",
              "      fill: #D2E3FC;\n",
              "    }\n",
              "\n",
              "    [theme=dark] .colab-df-convert:hover {\n",
              "      background-color: #434B5C;\n",
              "      box-shadow: 0px 1px 3px 1px rgba(0, 0, 0, 0.15);\n",
              "      filter: drop-shadow(0px 1px 2px rgba(0, 0, 0, 0.3));\n",
              "      fill: #FFFFFF;\n",
              "    }\n",
              "  </style>\n",
              "\n",
              "      <script>\n",
              "        const buttonEl =\n",
              "          document.querySelector('#df-334b15d0-6db1-4234-b2ff-a9d88b0686c5 button.colab-df-convert');\n",
              "        buttonEl.style.display =\n",
              "          google.colab.kernel.accessAllowed ? 'block' : 'none';\n",
              "\n",
              "        async function convertToInteractive(key) {\n",
              "          const element = document.querySelector('#df-334b15d0-6db1-4234-b2ff-a9d88b0686c5');\n",
              "          const dataTable =\n",
              "            await google.colab.kernel.invokeFunction('convertToInteractive',\n",
              "                                                     [key], {});\n",
              "          if (!dataTable) return;\n",
              "\n",
              "          const docLinkHtml = 'Like what you see? Visit the ' +\n",
              "            '<a target=\"_blank\" href=https://colab.research.google.com/notebooks/data_table.ipynb>data table notebook</a>'\n",
              "            + ' to learn more about interactive tables.';\n",
              "          element.innerHTML = '';\n",
              "          dataTable['output_type'] = 'display_data';\n",
              "          await google.colab.output.renderOutput(dataTable, element);\n",
              "          const docLink = document.createElement('div');\n",
              "          docLink.innerHTML = docLinkHtml;\n",
              "          element.appendChild(docLink);\n",
              "        }\n",
              "      </script>\n",
              "    </div>\n",
              "  </div>\n",
              "  "
            ]
          },
          "metadata": {},
          "execution_count": 7
        }
      ],
      "source": [
        "correlation = df.corr()\n",
        "correlation"
      ]
    },
    {
      "cell_type": "code",
      "execution_count": null,
      "id": "12f3553f",
      "metadata": {
        "colab": {
          "base_uri": "https://localhost:8080/",
          "height": 699
        },
        "id": "12f3553f",
        "outputId": "b88abed0-5488-4f89-aae0-bccbfae9a829"
      },
      "outputs": [
        {
          "output_type": "execute_result",
          "data": {
            "text/plain": [
              "<Axes: >"
            ]
          },
          "metadata": {},
          "execution_count": 8
        },
        {
          "output_type": "display_data",
          "data": {
            "text/plain": [
              "<Figure size 800x800 with 2 Axes>"
            ],
            "image/png": "[encoded data removed]"
          },
          "metadata": {}
        }
      ],
      "source": [
        "plt.figure(figsize=(8,8))\n",
        "sns.heatmap(correlation,annot=True)"
      ]
    },
    {
      "cell_type": "code",
      "execution_count": null,
      "id": "39f47e1f",
      "metadata": {
        "colab": {
          "base_uri": "https://localhost:8080/",
          "height": 523
        },
        "id": "39f47e1f",
        "outputId": "9e111e3e-24bf-4d20-d4d9-85c9bbdca141"
      },
      "outputs": [
        {
          "output_type": "execute_result",
          "data": {
            "text/plain": [
              "<seaborn.axisgrid.FacetGrid at 0x7fc59dba84c0>"
            ]
          },
          "metadata": {},
          "execution_count": 9
        },
        {
          "output_type": "display_data",
          "data": {
            "text/plain": [
              "<Figure size 500x500 with 1 Axes>"
            ],
            "image/png": "[encoded data removed]"
          },
          "metadata": {}
        }
      ],
      "source": [
        "sns.displot(df['GLD'],color=\"b\")"
      ]
    },
    {
      "cell_type": "markdown",
      "id": "03780426",
      "metadata": {
        "id": "03780426"
      },
      "source": [
        "# Spliting Data Into Dependent & Independent"
      ]
    },
    {
      "cell_type": "code",
      "execution_count": null,
      "id": "81d663a3",
      "metadata": {
        "colab": {
          "base_uri": "https://localhost:8080/"
        },
        "id": "81d663a3",
        "outputId": "c96a4a05-7b05-4e06-9b02-4488b05abcfb"
      },
      "outputs": [
        {
          "output_type": "execute_result",
          "data": {
            "text/plain": [
              "array([[1.44716003e+03, 7.84700010e+01, 1.51800000e+01, 1.47169200e+00],\n",
              "       [1.44716003e+03, 7.83700030e+01, 1.52850000e+01, 1.47449100e+00],\n",
              "       [1.41163000e+03, 7.73099980e+01, 1.51670000e+01, 1.47549200e+00],\n",
              "       ...,\n",
              "       [2.72307007e+03, 1.44100000e+01, 1.57400000e+01, 1.19175300e+00],\n",
              "       [2.73012988e+03, 1.43800000e+01, 1.55600000e+01, 1.19311800e+00],\n",
              "       [2.72578003e+03, 1.44058000e+01, 1.54542000e+01, 1.18203300e+00]])"
            ]
          },
          "metadata": {},
          "execution_count": 10
        }
      ],
      "source": [
        "X = df[['SPX','USO','SLV','EUR/USD']]\n",
        "x = X.iloc[:,:].values\n",
        "x"
      ]
    },
    {
      "cell_type": "code",
      "execution_count": null,
      "id": "218c1042",
      "metadata": {
        "colab": {
          "base_uri": "https://localhost:8080/"
        },
        "id": "218c1042",
        "outputId": "c247ff06-e577-4c68-d17d-e8bc05f08f47"
      },
      "outputs": [
        {
          "output_type": "execute_result",
          "data": {
            "text/plain": [
              "array([ 84.860001,  85.57    ,  85.129997, ..., 125.18    , 124.489998,\n",
              "       122.5438  ])"
            ]
          },
          "metadata": {},
          "execution_count": 11
        }
      ],
      "source": [
        "y = df.iloc[:,2].values\n",
        "y"
      ]
    },
    {
      "cell_type": "markdown",
      "id": "55f3ddf2",
      "metadata": {
        "id": "55f3ddf2"
      },
      "source": [
        "# Spliting into Training & Testing Data"
      ]
    },
    {
      "cell_type": "code",
      "execution_count": null,
      "id": "999a8422",
      "metadata": {
        "id": "999a8422"
      },
      "outputs": [],
      "source": [
        "x_train,x_test,y_train,y_test = train_test_split(x, y, test_size=0.2, random_state=1)"
      ]
    },
    {
      "cell_type": "code",
      "execution_count": null,
      "id": "936f905a",
      "metadata": {
        "colab": {
          "base_uri": "https://localhost:8080/"
        },
        "id": "936f905a",
        "outputId": "d274ee10-4492-438d-b76a-400b97d1e174"
      },
      "outputs": [
        {
          "output_type": "execute_result",
          "data": {
            "text/plain": [
              "(1832, 4)"
            ]
          },
          "metadata": {},
          "execution_count": 13
        }
      ],
      "source": [
        "x_train.shape"
      ]
    },
    {
      "cell_type": "code",
      "execution_count": null,
      "id": "e0f6f43f",
      "metadata": {
        "colab": {
          "base_uri": "https://localhost:8080/"
        },
        "id": "e0f6f43f",
        "outputId": "cf5d8942-70f8-400d-f667-4693b6decc26"
      },
      "outputs": [
        {
          "output_type": "execute_result",
          "data": {
            "text/plain": [
              "(458, 4)"
            ]
          },
          "metadata": {},
          "execution_count": 14
        }
      ],
      "source": [
        "x_test.shape"
      ]
    },
    {
      "cell_type": "code",
      "execution_count": null,
      "id": "15739095",
      "metadata": {
        "colab": {
          "base_uri": "https://localhost:8080/"
        },
        "id": "15739095",
        "outputId": "91755504-a2fd-4ca6-a923-b1d8d9e4ac79"
      },
      "outputs": [
        {
          "output_type": "execute_result",
          "data": {
            "text/plain": [
              "(1832,)"
            ]
          },
          "metadata": {},
          "execution_count": 15
        }
      ],
      "source": [
        "y_train.shape"
      ]
    },
    {
      "cell_type": "code",
      "execution_count": null,
      "id": "ad22ee65",
      "metadata": {
        "colab": {
          "base_uri": "https://localhost:8080/"
        },
        "id": "ad22ee65",
        "outputId": "ceb2575c-2a71-4582-a0fe-689d9ede20a3"
      },
      "outputs": [
        {
          "output_type": "execute_result",
          "data": {
            "text/plain": [
              "(1832,)"
            ]
          },
          "metadata": {},
          "execution_count": 16
        }
      ],
      "source": [
        "y_train.shape"
      ]
    },
    {
      "cell_type": "code",
      "execution_count": null,
      "id": "ce52b2a8",
      "metadata": {
        "id": "ce52b2a8"
      },
      "outputs": [],
      "source": [
        "lr = LinearRegression()"
      ]
    },
    {
      "cell_type": "code",
      "execution_count": null,
      "id": "e12eb78e",
      "metadata": {
        "colab": {
          "base_uri": "https://localhost:8080/",
          "height": 74
        },
        "id": "e12eb78e",
        "outputId": "40277a56-f3cb-421e-aa58-4fdff70776d8"
      },
      "outputs": [
        {
          "output_type": "execute_result",
          "data": {
            "text/plain": [
              "LinearRegression()"
            ],
            "text/html": [
              "<style>#sk-container-id-1 {color: black;background-color: white;}#sk-container-id-1 pre{padding: 0;}#sk-container-id-1 div.sk-toggleable {background-color: white;}#sk-container-id-1 label.sk-toggleable__label {cursor: pointer;display: block;width: 100%;margin-bottom: 0;padding: 0.3em;box-sizing: border-box;text-align: center;}#sk-container-id-1 label.sk-toggleable__label-arrow:before {content: \"▸\";float: left;margin-right: 0.25em;color: #696969;}#sk-container-id-1 label.sk-toggleable__label-arrow:hover:before {color: black;}#sk-container-id-1 div.sk-estimator:hover label.sk-toggleable__label-arrow:before {color: black;}#sk-container-id-1 div.sk-toggleable__content {max-height: 0;max-width: 0;overflow: hidden;text-align: left;background-color: #f0f8ff;}#sk-container-id-1 div.sk-toggleable__content pre {margin: 0.2em;color: black;border-radius: 0.25em;background-color: #f0f8ff;}#sk-container-id-1 input.sk-toggleable__control:checked~div.sk-toggleable__content {max-height: 200px;max-width: 100%;overflow: auto;}#sk-container-id-1 input.sk-toggleable__control:checked~label.sk-toggleable__label-arrow:before {content: \"▾\";}#sk-container-id-1 div.sk-estimator input.sk-toggleable__control:checked~label.sk-toggleable__label {background-color: #d4ebff;}#sk-container-id-1 div.sk-label input.sk-toggleable__control:checked~label.sk-toggleable__label {background-color: #d4ebff;}#sk-container-id-1 input.sk-hidden--visually {border: 0;clip: rect(1px 1px 1px 1px);clip: rect(1px, 1px, 1px, 1px);height: 1px;margin: -1px;overflow: hidden;padding: 0;position: absolute;width: 1px;}#sk-container-id-1 div.sk-estimator {font-family: monospace;background-color: #f0f8ff;border: 1px dotted black;border-radius: 0.25em;box-sizing: border-box;margin-bottom: 0.5em;}#sk-container-id-1 div.sk-estimator:hover {background-color: #d4ebff;}#sk-container-id-1 div.sk-parallel-item::after {content: \"\";width: 100%;border-bottom: 1px solid gray;flex-grow: 1;}#sk-container-id-1 div.sk-label:hover label.sk-toggleable__label {background-color: #d4ebff;}#sk-container-id-1 div.sk-serial::before {content: \"\";position: absolute;border-left: 1px solid gray;box-sizing: border-box;top: 0;bottom: 0;left: 50%;z-index: 0;}#sk-container-id-1 div.sk-serial {display: flex;flex-direction: column;align-items: center;background-color: white;padding-right: 0.2em;padding-left: 0.2em;position: relative;}#sk-container-id-1 div.sk-item {position: relative;z-index: 1;}#sk-container-id-1 div.sk-parallel {display: flex;align-items: stretch;justify-content: center;background-color: white;position: relative;}#sk-container-id-1 div.sk-item::before, #sk-container-id-1 div.sk-parallel-item::before {content: \"\";position: absolute;border-left: 1px solid gray;box-sizing: border-box;top: 0;bottom: 0;left: 50%;z-index: -1;}#sk-container-id-1 div.sk-parallel-item {display: flex;flex-direction: column;z-index: 1;position: relative;background-color: white;}#sk-container-id-1 div.sk-parallel-item:first-child::after {align-self: flex-end;width: 50%;}#sk-container-id-1 div.sk-parallel-item:last-child::after {align-self: flex-start;width: 50%;}#sk-container-id-1 div.sk-parallel-item:only-child::after {width: 0;}#sk-container-id-1 div.sk-dashed-wrapped {border: 1px dashed gray;margin: 0 0.4em 0.5em 0.4em;box-sizing: border-box;padding-bottom: 0.4em;background-color: white;}#sk-container-id-1 div.sk-label label {font-family: monospace;font-weight: bold;display: inline-block;line-height: 1.2em;}#sk-container-id-1 div.sk-label-container {text-align: center;}#sk-container-id-1 div.sk-container {/* jupyter's `normalize.less` sets `[hidden] { display: none; }` but bootstrap.min.css set `[hidden] { display: none !important; }` so we also need the `!important` here to be able to override the default hidden behavior on the sphinx rendered scikit-learn.org. See: https://github.com/scikit-learn/scikit-learn/issues/21755 */display: inline-block !important;position: relative;}#sk-container-id-1 div.sk-text-repr-fallback {display: none;}</style><div id=\"sk-container-id-1\" class=\"sk-top-container\"><div class=\"sk-text-repr-fallback\"><pre>LinearRegression()</pre><b>In a Jupyter environment, please rerun this cell to show the HTML representation or trust the notebook. <br />On GitHub, the HTML representation is unable to render, please try loading this page with nbviewer.org.</b></div><div class=\"sk-container\" hidden><div class=\"sk-item\"><div class=\"sk-estimator sk-toggleable\"><input class=\"sk-toggleable__control sk-hidden--visually\" id=\"sk-estimator-id-1\" type=\"checkbox\" checked><label for=\"sk-estimator-id-1\" class=\"sk-toggleable__label sk-toggleable__label-arrow\">LinearRegression</label><div class=\"sk-toggleable__content\"><pre>LinearRegression()</pre></div></div></div></div></div>"
            ]
          },
          "metadata": {},
          "execution_count": 18
        }
      ],
      "source": [
        "lr.fit(x_train,y_train)"
      ]
    },
    {
      "cell_type": "code",
      "execution_count": null,
      "id": "4d0346f9",
      "metadata": {
        "colab": {
          "base_uri": "https://localhost:8080/"
        },
        "id": "4d0346f9",
        "outputId": "3a600e01-76fe-41df-e986-40b755eddd91"
      },
      "outputs": [
        {
          "output_type": "execute_result",
          "data": {
            "text/plain": [
              "array([121.893539  , 142.52364868, 158.91453793, 114.2187805 ,\n",
              "       110.36659025, 104.50331873, 109.98245681,  92.18483425,\n",
              "       120.90649253, 123.318912  , 191.2074328 , 118.60055338,\n",
              "       112.11950573,  93.46765189, 102.30779779,  97.98184003,\n",
              "       118.85518215,  94.0029039 , 119.86781484, 116.59909644,\n",
              "       122.21215189, 142.45378454, 121.22332281, 120.62860463,\n",
              "       163.30049944, 104.70315921, 125.56912816,  87.10875178,\n",
              "        95.73671386,  86.93309315, 121.81073623, 147.1233332 ,\n",
              "       144.33048658, 121.95542705, 121.2464489 ,  94.5371824 ,\n",
              "       152.31281012, 113.94185408, 110.92710898, 182.21152503,\n",
              "        97.46373243, 128.50200625, 120.48416906, 140.20343573,\n",
              "       120.16866258,  90.96452083,  82.43780029, 123.52782293,\n",
              "       144.52004651, 113.76951398, 123.14800018, 159.28339044,\n",
              "       141.34969761,  88.97598628, 163.39595336, 142.38892627,\n",
              "       109.31495867, 119.81421995,  93.1108709 , 129.67869305,\n",
              "       119.96744889, 142.21550112, 115.80809495, 115.07539756,\n",
              "       151.79900825, 111.10161864, 111.92509756, 140.89627511,\n",
              "       145.61855516, 117.87198864, 114.62345333, 187.25899785,\n",
              "       145.43536821, 161.41558562, 114.18988397, 132.49754796,\n",
              "       111.16755087, 109.30848107, 120.47917639, 121.40491892,\n",
              "       116.00435499,  96.11630876, 131.27113361, 114.43119403,\n",
              "       117.85030877,  95.53999061, 130.05094463, 119.38407911,\n",
              "       124.53437714, 122.59606268, 115.1787942 , 118.68710745,\n",
              "       152.63901818,  84.14101223, 120.87060817, 118.39624487,\n",
              "       128.03396621, 119.20243297, 119.14425157, 119.91859315,\n",
              "       123.61453323, 106.90593028, 149.32895426, 122.56480736,\n",
              "       123.92225354, 131.11817056, 170.1805573 ,  96.72174206,\n",
              "       121.18356825, 123.93609207, 105.80067393, 130.81763357,\n",
              "       121.01521435, 104.61517105, 121.2224091 , 106.60575946,\n",
              "       127.2681336 , 111.94445761, 113.91279289, 178.29068593,\n",
              "       100.29211127, 117.18663788, 115.63397188, 110.48390785,\n",
              "       120.23061664, 157.82315966, 122.17198229, 143.06271772,\n",
              "       121.5624132 , 154.30248258, 122.40105071,  91.73272171,\n",
              "       121.0739105 , 120.88036983, 110.97714331, 117.85878004,\n",
              "       121.65756238, 173.70639193, 121.20435772, 120.25699671,\n",
              "       119.81485401, 119.22662185, 158.75872752, 148.81027396,\n",
              "       160.94927188, 122.73596044, 122.46784515, 151.22434104,\n",
              "       104.95296137,  85.09948326, 117.21766337, 119.58856833,\n",
              "       123.93793188, 120.46585723, 120.50089853, 111.93213937,\n",
              "       113.18422685, 161.35600582, 188.47155233, 159.08514553,\n",
              "       110.84778161, 125.34969241, 122.8246894 , 160.37528806,\n",
              "       125.34276279, 125.11155741, 140.35395806, 125.46878543,\n",
              "       108.99629119, 130.81679072, 145.83974491, 129.50752059,\n",
              "       101.3317168 , 111.48939374, 123.89244066, 147.43146536,\n",
              "       103.19605589, 125.65510054, 105.54951719, 122.21063294,\n",
              "       144.96914694, 113.48053399, 119.21955856, 122.59180098,\n",
              "       113.50182914, 164.79093758, 140.47826013, 155.13415241,\n",
              "       119.11043492, 111.1612933 , 115.5765566 , 109.07933524,\n",
              "       111.05597337, 117.12968202, 146.33725566, 125.29482948,\n",
              "       122.01735428, 172.17272722, 164.70193802,  80.90779946,\n",
              "       120.19140715, 126.33040325, 119.54391475, 112.35803818,\n",
              "       160.29666111, 179.71529065,  80.32811206, 111.75068008,\n",
              "        95.00732586, 125.19446063, 127.2394719 , 113.6462296 ,\n",
              "       119.28700248, 143.11288798, 161.37239402,  94.0594433 ,\n",
              "       122.92687467, 112.7600935 , 115.00702604, 106.00896081,\n",
              "       161.66719074, 130.97441157, 106.19607485, 118.93087718,\n",
              "       109.53498579,  90.52958792, 162.38976313, 120.87614088,\n",
              "       118.46170656, 111.47965419, 124.29056897,  99.50911306,\n",
              "       115.87668768, 116.20464686, 143.98763658, 122.93174742,\n",
              "       161.21260345,  86.54042934, 157.55308619, 120.44179591,\n",
              "       114.83771515, 121.40631465, 118.47674303,  87.25467249,\n",
              "       122.17819088, 120.15227884,  96.85436137, 110.82733265,\n",
              "       121.06808989, 161.25969987, 110.95661339,  94.71203063,\n",
              "       124.57667954, 107.17688157,  97.28164723,  78.86686259,\n",
              "       153.54278608, 109.4464411 , 132.52972705, 101.56628241,\n",
              "       112.86087999, 140.26818731, 148.88146388, 115.06990015,\n",
              "       119.22730107, 149.69155655, 110.81005154, 164.87563762,\n",
              "       182.28419813,  88.34267807, 109.10047143, 142.26021017,\n",
              "       102.47654355, 149.52419695, 109.64464199, 141.48726534,\n",
              "       122.04916215, 123.0249573 , 121.9888099 ,  90.88442831,\n",
              "        82.75151517, 127.29537465, 122.5258863 , 120.22157986,\n",
              "       120.19789629, 141.22081191, 161.80886094, 119.27119548,\n",
              "       145.05430118, 142.34175924, 111.91270937,  95.66114278,\n",
              "       121.80837263, 145.96577999, 154.70121451, 144.10135873,\n",
              "        91.50799532, 148.73685693, 144.72158917, 103.45629687,\n",
              "       145.76091274,  86.77299824, 110.83742422, 125.18983304,\n",
              "       120.10486842, 141.25991761, 123.50675326, 129.2875168 ,\n",
              "       122.15637221, 102.91326806, 115.49997156, 100.17632354,\n",
              "       158.71759096, 148.66931542,  91.83259887, 130.05716258,\n",
              "       115.24490858, 155.9727481 , 119.4286435 , 104.57936368,\n",
              "       111.80532195, 113.59182526, 108.80340346,  79.77954681,\n",
              "        97.34768795, 116.56715202,  92.51847   , 108.89110733,\n",
              "       163.24042206, 157.91956079,  94.49193094, 161.91516255,\n",
              "        92.88471043, 118.37639445, 106.86049567, 121.9959432 ,\n",
              "       121.39476459, 119.03959822, 112.21237472, 127.43824184,\n",
              "       108.47905429, 151.98143739, 106.04185001, 123.82281282,\n",
              "       143.97924296, 160.04001166,  97.68943153,  94.55986406,\n",
              "       123.00237781,  94.65142171, 121.9584228 , 120.20108694,\n",
              "       169.30345298, 121.3380092 , 105.88302438, 152.58530848,\n",
              "        76.72935178, 118.60111882,  78.15825078, 116.72271499,\n",
              "       149.34330776, 138.05462745, 154.86569084, 117.03143748,\n",
              "       105.81485898, 142.45883207, 122.16506218, 153.89085298,\n",
              "       167.9755441 , 122.8992575 , 124.34510512, 109.27485851,\n",
              "       116.96033819, 123.04532469, 126.70575846, 152.06171606,\n",
              "        97.57033793, 159.24507415, 108.81674823, 118.9593623 ,\n",
              "       139.52454664, 117.20768505, 155.82277102, 118.52249064,\n",
              "       114.91007427, 131.44158249, 133.22283998, 115.91435319,\n",
              "       122.02689588, 122.40153797, 120.38745151, 111.86807801,\n",
              "       112.38258752,  80.30405571, 149.1970171 , 145.74596131,\n",
              "        92.26862613, 162.87370385, 140.49277053, 115.14648728,\n",
              "       113.73639442, 126.05147512, 152.87814705, 138.05711625,\n",
              "       123.96980134, 158.89130987, 153.9624448 , 123.20941919,\n",
              "       123.84179422, 122.24728569, 120.00758243, 140.5145255 ,\n",
              "        92.43270517, 111.50287291, 124.26577638, 155.21786142,\n",
              "       139.72170116,  96.27371079, 149.34223995, 116.02963226,\n",
              "       103.30165966, 122.61368894, 164.06803336, 120.73734866,\n",
              "       121.22627506, 114.79612506,  84.14393988, 118.6940176 ,\n",
              "       111.92311004, 150.98498399, 120.95105105, 120.30262401,\n",
              "       124.00400963,  98.52573323, 127.27612198, 146.60863372,\n",
              "       111.46538332,  92.70579362, 120.02984531,  96.81857708,\n",
              "       121.77854312, 117.14764776, 121.56275821, 106.1833252 ,\n",
              "       126.08059861, 162.87902302, 160.90222642, 130.40982522,\n",
              "       160.54407161, 104.63138943, 117.91694447, 123.91026744,\n",
              "       118.94325186, 114.17707869, 105.19389351, 126.55732904,\n",
              "       154.58311636, 116.00920198])"
            ]
          },
          "metadata": {},
          "execution_count": 19
        }
      ],
      "source": [
        "y_pred = lr.predict(x_test)\n",
        "y_pred"
      ]
    },
    {
      "cell_type": "code",
      "execution_count": null,
      "id": "de75b1b0",
      "metadata": {
        "colab": {
          "base_uri": "https://localhost:8080/"
        },
        "id": "de75b1b0",
        "outputId": "40d642da-d3d2-4e6c-bb47-3547ef3cd0f8"
      },
      "outputs": [
        {
          "output_type": "stream",
          "name": "stdout",
          "text": [
            "R-Squared Error for lr : 0.8696713120900417\n"
          ]
        }
      ],
      "source": [
        "accuracy = metrics.r2_score(y_test, y_pred)\n",
        "print('R-Squared Error for lr :', accuracy)"
      ]
    },
    {
      "cell_type": "markdown",
      "id": "1290f4a4",
      "metadata": {
        "id": "1290f4a4"
      },
      "source": [
        "# Random Forest Model"
      ]
    },
    {
      "cell_type": "code",
      "execution_count": null,
      "id": "9056bc33",
      "metadata": {
        "id": "9056bc33"
      },
      "outputs": [],
      "source": [
        "rf = RandomForestRegressor(n_estimators=100)"
      ]
    },
    {
      "cell_type": "code",
      "execution_count": null,
      "id": "b577b054",
      "metadata": {
        "colab": {
          "base_uri": "https://localhost:8080/",
          "height": 74
        },
        "id": "b577b054",
        "outputId": "c48ad0dd-48a6-43a8-c222-d3a5519d7fda"
      },
      "outputs": [
        {
          "output_type": "execute_result",
          "data": {
            "text/plain": [
              "RandomForestRegressor()"
            ],
            "text/html": [
              "<style>#sk-container-id-2 {color: black;background-color: white;}#sk-container-id-2 pre{padding: 0;}#sk-container-id-2 div.sk-toggleable {background-color: white;}#sk-container-id-2 label.sk-toggleable__label {cursor: pointer;display: block;width: 100%;margin-bottom: 0;padding: 0.3em;box-sizing: border-box;text-align: center;}#sk-container-id-2 label.sk-toggleable__label-arrow:before {content: \"▸\";float: left;margin-right: 0.25em;color: #696969;}#sk-container-id-2 label.sk-toggleable__label-arrow:hover:before {color: black;}#sk-container-id-2 div.sk-estimator:hover label.sk-toggleable__label-arrow:before {color: black;}#sk-container-id-2 div.sk-toggleable__content {max-height: 0;max-width: 0;overflow: hidden;text-align: left;background-color: #f0f8ff;}#sk-container-id-2 div.sk-toggleable__content pre {margin: 0.2em;color: black;border-radius: 0.25em;background-color: #f0f8ff;}#sk-container-id-2 input.sk-toggleable__control:checked~div.sk-toggleable__content {max-height: 200px;max-width: 100%;overflow: auto;}#sk-container-id-2 input.sk-toggleable__control:checked~label.sk-toggleable__label-arrow:before {content: \"▾\";}#sk-container-id-2 div.sk-estimator input.sk-toggleable__control:checked~label.sk-toggleable__label {background-color: #d4ebff;}#sk-container-id-2 div.sk-label input.sk-toggleable__control:checked~label.sk-toggleable__label {background-color: #d4ebff;}#sk-container-id-2 input.sk-hidden--visually {border: 0;clip: rect(1px 1px 1px 1px);clip: rect(1px, 1px, 1px, 1px);height: 1px;margin: -1px;overflow: hidden;padding: 0;position: absolute;width: 1px;}#sk-container-id-2 div.sk-estimator {font-family: monospace;background-color: #f0f8ff;border: 1px dotted black;border-radius: 0.25em;box-sizing: border-box;margin-bottom: 0.5em;}#sk-container-id-2 div.sk-estimator:hover {background-color: #d4ebff;}#sk-container-id-2 div.sk-parallel-item::after {content: \"\";width: 100%;border-bottom: 1px solid gray;flex-grow: 1;}#sk-container-id-2 div.sk-label:hover label.sk-toggleable__label {background-color: #d4ebff;}#sk-container-id-2 div.sk-serial::before {content: \"\";position: absolute;border-left: 1px solid gray;box-sizing: border-box;top: 0;bottom: 0;left: 50%;z-index: 0;}#sk-container-id-2 div.sk-serial {display: flex;flex-direction: column;align-items: center;background-color: white;padding-right: 0.2em;padding-left: 0.2em;position: relative;}#sk-container-id-2 div.sk-item {position: relative;z-index: 1;}#sk-container-id-2 div.sk-parallel {display: flex;align-items: stretch;justify-content: center;background-color: white;position: relative;}#sk-container-id-2 div.sk-item::before, #sk-container-id-2 div.sk-parallel-item::before {content: \"\";position: absolute;border-left: 1px solid gray;box-sizing: border-box;top: 0;bottom: 0;left: 50%;z-index: -1;}#sk-container-id-2 div.sk-parallel-item {display: flex;flex-direction: column;z-index: 1;position: relative;background-color: white;}#sk-container-id-2 div.sk-parallel-item:first-child::after {align-self: flex-end;width: 50%;}#sk-container-id-2 div.sk-parallel-item:last-child::after {align-self: flex-start;width: 50%;}#sk-container-id-2 div.sk-parallel-item:only-child::after {width: 0;}#sk-container-id-2 div.sk-dashed-wrapped {border: 1px dashed gray;margin: 0 0.4em 0.5em 0.4em;box-sizing: border-box;padding-bottom: 0.4em;background-color: white;}#sk-container-id-2 div.sk-label label {font-family: monospace;font-weight: bold;display: inline-block;line-height: 1.2em;}#sk-container-id-2 div.sk-label-container {text-align: center;}#sk-container-id-2 div.sk-container {/* jupyter's `normalize.less` sets `[hidden] { display: none; }` but bootstrap.min.css set `[hidden] { display: none !important; }` so we also need the `!important` here to be able to override the default hidden behavior on the sphinx rendered scikit-learn.org. See: https://github.com/scikit-learn/scikit-learn/issues/21755 */display: inline-block !important;position: relative;}#sk-container-id-2 div.sk-text-repr-fallback {display: none;}</style><div id=\"sk-container-id-2\" class=\"sk-top-container\"><div class=\"sk-text-repr-fallback\"><pre>RandomForestRegressor()</pre><b>In a Jupyter environment, please rerun this cell to show the HTML representation or trust the notebook. <br />On GitHub, the HTML representation is unable to render, please try loading this page with nbviewer.org.</b></div><div class=\"sk-container\" hidden><div class=\"sk-item\"><div class=\"sk-estimator sk-toggleable\"><input class=\"sk-toggleable__control sk-hidden--visually\" id=\"sk-estimator-id-2\" type=\"checkbox\" checked><label for=\"sk-estimator-id-2\" class=\"sk-toggleable__label sk-toggleable__label-arrow\">RandomForestRegressor</label><div class=\"sk-toggleable__content\"><pre>RandomForestRegressor()</pre></div></div></div></div></div>"
            ]
          },
          "metadata": {},
          "execution_count": 22
        }
      ],
      "source": [
        "rf.fit(x_train,y_train)"
      ]
    },
    {
      "cell_type": "code",
      "execution_count": null,
      "id": "69be39ac",
      "metadata": {
        "colab": {
          "base_uri": "https://localhost:8080/"
        },
        "id": "69be39ac",
        "outputId": "d0a626b0-3e1f-4032-a463-f67d0787616d"
      },
      "outputs": [
        {
          "output_type": "execute_result",
          "data": {
            "text/plain": [
              "array([113.36740029, 148.65340062, 140.43319835, 112.703002  ,\n",
              "       113.82369947,  95.7737994 , 111.83490009,  93.30299943,\n",
              "       120.81590053, 127.04029955, 147.80529973, 120.47389888,\n",
              "       119.11070021,  88.13040043,  96.16239997,  92.92459863,\n",
              "       116.69570103,  88.90999938, 125.29930093, 114.86320007,\n",
              "       119.10599933, 152.83220147, 122.86779821, 120.25579997,\n",
              "       171.28440009, 108.41559847, 120.55220072,  87.17699839,\n",
              "        88.228301  ,  88.42469922, 121.36560061, 154.46210194,\n",
              "       149.98849825, 125.89199955, 126.86059932,  91.02639885,\n",
              "       157.12579929, 121.5168016 , 106.74730064, 144.41599671,\n",
              "        92.54280008, 127.65740117, 117.54840061, 152.45190158,\n",
              "       119.23839937,  91.36030188,  80.25279953, 120.12620175,\n",
              "       132.15150024, 119.11499956, 127.35170079, 165.82540063,\n",
              "       153.35280019,  92.62559892, 148.86020053, 152.07959868,\n",
              "       112.90200064, 113.00270069,  87.22829928, 127.78519884,\n",
              "       125.17340068, 151.88480278, 114.38049993, 110.69690028,\n",
              "       161.27499767, 117.28099851, 108.68820106, 131.88489974,\n",
              "       133.19250131, 125.46050048, 117.09260014, 150.20570188,\n",
              "       155.96870023, 169.05319515, 109.88500077, 141.1133986 ,\n",
              "       102.00859861, 114.84160098, 119.95500059, 123.57209952,\n",
              "       117.91580063,  92.04950005, 140.97240034, 107.17470035,\n",
              "       125.41849988,  92.44139951, 133.1445041 , 125.29220024,\n",
              "       125.64730039, 126.29969868, 113.32630009, 120.50139929,\n",
              "       161.08490132,  80.66099984, 118.30890114, 115.34790064,\n",
              "       135.64190067, 109.60090021, 109.08319921, 126.23530082,\n",
              "       127.54550035, 110.23999885, 160.42239875, 123.30500011,\n",
              "       120.96250048, 128.42979795, 147.30239597,  92.5361983 ,\n",
              "       124.76949942, 119.2385999 , 108.76879911, 135.38139971,\n",
              "       120.83420042,  98.02309744, 115.64900032, 110.03789806,\n",
              "       126.14160052, 113.79760113, 107.10830065, 173.74429892,\n",
              "        96.74560263, 126.520898  , 111.93109833, 112.22969978,\n",
              "       125.01259923, 168.16309857, 114.26930057, 134.95329659,\n",
              "       125.66089995, 163.35780013, 120.20979922,  88.84489938,\n",
              "       127.59159914, 127.8588003 , 115.81700033, 122.81969863,\n",
              "       125.91849969, 167.08039751, 112.09440093, 120.05470025,\n",
              "       126.21520077, 126.43919991, 167.93939817, 160.35630024,\n",
              "       170.9696034 , 121.25120101, 121.67460067, 162.44540048,\n",
              "        98.59229957,  80.11429979, 115.85120084, 113.24930024,\n",
              "       118.37810048, 113.55840057, 120.32259988, 119.98330076,\n",
              "       104.59059921, 171.07090277, 144.53129595, 166.25769743,\n",
              "       117.67370157, 125.96660127, 126.06649987, 166.20879955,\n",
              "       117.46020085, 133.10730362, 137.02520043, 132.07140203,\n",
              "       113.44330079, 133.14220165, 153.77280143, 136.1134976 ,\n",
              "        96.25960096, 108.60950132, 124.75020028, 150.13419963,\n",
              "        98.53820022, 131.93240148, 105.04209948, 121.26969825,\n",
              "       144.90150081, 109.12820186, 126.97709998, 127.27519874,\n",
              "       113.07770076, 140.66320238, 151.45810016, 165.49779884,\n",
              "       119.83049979, 104.76970195, 115.2297999 , 114.02690082,\n",
              "       106.87629964, 124.16820045, 153.83880281, 129.04050202,\n",
              "       125.92379958, 148.70429678, 143.74519905,  83.930599  ,\n",
              "       125.11409945, 125.78010021, 124.52390177, 106.33780086,\n",
              "       169.90780201, 176.522698  ,  77.87840084, 119.38250085,\n",
              "        93.0818005 , 118.49109958, 125.60550127, 117.48790011,\n",
              "       124.00630016, 152.13389981, 149.87420203,  91.66980052,\n",
              "       131.21709791, 108.77569832, 110.09729901, 108.93859977,\n",
              "       168.87579554, 128.82939813, 103.12759929, 124.45779888,\n",
              "       111.59499993,  89.96909876, 146.02369869, 121.61870011,\n",
              "       119.79700089, 104.11759936, 125.32890015,  94.41190062,\n",
              "       121.48750129, 116.40930007, 135.62589926, 124.35740121,\n",
              "       170.82830266,  83.12139871, 167.87299882, 124.4265997 ,\n",
              "       109.91580019, 125.96019926, 123.29759866,  83.35279877,\n",
              "       124.25989881, 113.63550037,  90.81889824, 113.05710008,\n",
              "       112.06520106, 170.30250118, 107.30339983,  91.51469942,\n",
              "       119.00659989, 109.45969862,  90.36610038,  75.72460071,\n",
              "       161.16240122, 114.1985004 , 141.65170193,  96.63230042,\n",
              "       120.9881997 , 151.08400012, 160.26460074, 113.64250092,\n",
              "       116.27190114, 155.04210083, 118.06569829, 150.77870059,\n",
              "       177.04939686,  87.53540037, 112.45359963, 153.07709967,\n",
              "       108.35209906, 157.65370218, 115.16870088, 139.10849837,\n",
              "       122.00049957, 115.80449796, 114.4926007 ,  86.01309947,\n",
              "        75.53269822, 132.427899  , 120.74440047, 118.63030085,\n",
              "       111.44930068, 153.80780024, 152.23270001, 123.15029953,\n",
              "       139.84660146, 152.57160196, 107.1443006 ,  91.88629952,\n",
              "       121.93260035, 154.94630047, 161.47109916, 156.53280266,\n",
              "        90.19679934, 134.62850234, 152.42600074, 108.61229889,\n",
              "       152.98200117,  85.20240009, 116.88230139, 119.68600044,\n",
              "       127.63620211, 151.43800188, 117.44010003, 127.82260007,\n",
              "       114.694601  , 103.6614993 , 114.34200022,  95.52390086,\n",
              "       167.95519817, 150.02480084,  86.8134983 , 128.19910077,\n",
              "       111.3609983 , 164.0392018 , 121.64249922, 108.05949981,\n",
              "       103.17709996, 115.32060006, 112.08840109,  76.05180021,\n",
              "        91.16109813, 122.28349922,  87.32289853, 112.40770092,\n",
              "       171.98770173, 164.92050183,  90.92449896, 139.30479909,\n",
              "        90.04030125, 118.79020044, 108.94960095, 125.23299884,\n",
              "       118.47400086, 124.07409967, 107.14680137, 130.84809835,\n",
              "       114.91570035, 160.34539976, 108.31789927, 116.51569948,\n",
              "       151.30390084, 147.29380038,  94.2646    ,  91.27629864,\n",
              "       124.99860004,  88.12039919, 114.18140092, 114.78760043,\n",
              "       166.52929841, 121.0021005 , 106.8407992 , 160.60469847,\n",
              "        77.29770025, 124.41939915,  75.66210068, 124.63940004,\n",
              "       158.88970094, 130.80460245, 161.20500151, 120.55929968,\n",
              "       106.53949984, 155.34840293, 126.02829924, 157.91180038,\n",
              "       140.79169851, 131.2968    , 132.91540335, 113.08390016,\n",
              "       114.04579935, 126.67849955, 129.19369911, 163.08650107,\n",
              "        89.77750088, 169.19139881, 111.88869916, 118.56410137,\n",
              "       135.89800093, 121.82180189, 164.30840099, 120.48010144,\n",
              "       114.29160084, 141.43059948, 131.7048022 , 114.60730019,\n",
              "       120.09640026, 125.24119868, 124.86579917, 107.06440026,\n",
              "       104.1261992 ,  71.8682014 , 159.37130277, 151.88670054,\n",
              "        86.04590043, 156.87770115, 153.39950333, 121.88790114,\n",
              "       114.08790116, 121.22020071, 162.24579784, 131.47730144,\n",
              "       118.37099942, 156.9817008 , 162.78860279, 124.37759988,\n",
              "       127.25619878, 125.80969979, 120.18149983, 151.22450023,\n",
              "        87.11229897, 102.93549882, 132.36390223, 163.37530231,\n",
              "       131.05590194,  88.70789964, 160.97960126, 116.16770028,\n",
              "        97.30239806, 127.20419997, 139.28519887, 121.90320041,\n",
              "       119.36379915, 111.30540009,  77.52179958, 121.426401  ,\n",
              "       102.6666989 , 160.72149796, 117.5818004 , 126.27460092,\n",
              "       126.56230021,  93.87379974, 132.45049779, 156.36179949,\n",
              "       102.96289962,  93.44159989, 127.14730103,  93.15850133,\n",
              "       113.53160044, 126.03619869, 122.41529911, 107.90029883,\n",
              "       118.99140118, 148.09019884, 148.05350223, 134.54840094,\n",
              "       168.27680164, 101.09589933, 118.12300105, 127.47680096,\n",
              "       115.00130128, 115.47929958, 101.24329875, 129.73039887,\n",
              "       164.98429812, 119.13520262])"
            ]
          },
          "metadata": {},
          "execution_count": 23
        }
      ],
      "source": [
        "y_pred = rf.predict(x_test)\n",
        "y_pred"
      ]
    },
    {
      "cell_type": "code",
      "execution_count": null,
      "id": "658605b4",
      "metadata": {
        "colab": {
          "base_uri": "https://localhost:8080/"
        },
        "id": "658605b4",
        "outputId": "98b83b1d-02f6-48d2-a67e-98bb7194d92d"
      },
      "outputs": [
        {
          "output_type": "stream",
          "name": "stdout",
          "text": [
            "R-Squared Error for rf : 0.9880429484468277\n"
          ]
        }
      ],
      "source": [
        "accuracy = metrics.r2_score(y_test, y_pred)\n",
        "print('R-Squared Error for rf :', accuracy)"
      ]
    }
  ],
  "metadata": {
    "kernelspec": {
      "display_name": "Python 3 (ipykernel)",
      "language": "python",
      "name": "python3"
    },
    "language_info": {
      "codemirror_mode": {
        "name": "ipython",
        "version": 3
      },
      "file_extension": ".py",
      "mimetype": "text/x-python",
      "name": "python",
      "nbconvert_exporter": "python",
      "pygments_lexer": "ipython3",
      "version": "3.9.7"
    },
    "colab": {
      "provenance": []
    }
  },
  "nbformat": 4,
  "nbformat_minor": 5
}